{
 "cells": [
  {
   "cell_type": "code",
   "execution_count": 1,
   "metadata": {},
   "outputs": [],
   "source": [
    "import torch\n",
    "from torch import nn\n",
    "from torchsummary import summary"
   ]
  },
  {
   "cell_type": "code",
   "execution_count": 3,
   "metadata": {},
   "outputs": [
    {
     "name": "stdout",
     "output_type": "stream",
     "text": [
      "----------------------------------------------------------------\n",
      "        Layer (type)               Output Shape         Param #\n",
      "================================================================\n",
      "            Conv1d-1            [-1, 256, 7981]          41,216\n",
      "       BatchNorm1d-2            [-1, 256, 7981]             512\n",
      "              ReLU-3            [-1, 256, 7981]               0\n",
      "         MaxPool1d-4            [-1, 256, 1995]               0\n",
      "            Conv1d-5            [-1, 256, 1993]         196,864\n",
      "       BatchNorm1d-6            [-1, 256, 1993]             512\n",
      "              ReLU-7            [-1, 256, 1993]               0\n",
      "         MaxPool1d-8             [-1, 256, 498]               0\n",
      "            Conv1d-9             [-1, 256, 496]         196,864\n",
      "      BatchNorm1d-10             [-1, 256, 496]             512\n",
      "             ReLU-11             [-1, 256, 496]               0\n",
      "        MaxPool1d-12             [-1, 256, 124]               0\n",
      "           Conv1d-13             [-1, 512, 122]         393,728\n",
      "      BatchNorm1d-14             [-1, 512, 122]           1,024\n",
      "             ReLU-15             [-1, 512, 122]               0\n",
      "        MaxPool1d-16              [-1, 512, 30]               0\n",
      "AdaptiveAvgPool1d-17               [-1, 512, 1]               0\n",
      "          Flatten-18                  [-1, 512]               0\n",
      "           Linear-19                    [-1, 2]           1,026\n",
      "================================================================\n",
      "Total params: 832,258\n",
      "Trainable params: 832,258\n",
      "Non-trainable params: 0\n",
      "----------------------------------------------------------------\n",
      "Input size (MB): 0.24\n",
      "Forward/backward pass size (MB): 68.01\n",
      "Params size (MB): 3.17\n",
      "Estimated Total Size (MB): 71.43\n",
      "----------------------------------------------------------------\n"
     ]
    }
   ],
   "source": [
    "class M5(nn.Module):\n",
    "    def __init__(self):\n",
    "        super().__init__()\n",
    "\n",
    "        self.conv1 = nn.Conv1d(1, 256, kernel_size=160, stride=8)\n",
    "        self.bn1 = nn.BatchNorm1d(256)\n",
    "        self.relu1 = nn.ReLU()\n",
    "        self.maxpool1 = nn.MaxPool1d(kernel_size=4)\n",
    "\n",
    "        self.conv2 = nn.Conv1d(256, 256, kernel_size=3, stride=1)\n",
    "        self.bn2 = nn.BatchNorm1d(256)\n",
    "        self.relu2 = nn.ReLU()\n",
    "        self.maxpool2 = nn.MaxPool1d(kernel_size=4)\n",
    "\n",
    "        self.conv3 = nn.Conv1d(256, 256, kernel_size=3, stride=1)\n",
    "        self.bn3 = nn.BatchNorm1d(256)\n",
    "        self.relu3 = nn.ReLU()\n",
    "        self.maxpool3 = nn.MaxPool1d(kernel_size=4)\n",
    "\n",
    "        self.conv4 = nn.Conv1d(256, 512, kernel_size=3, stride=1)\n",
    "        self.bn4 = nn.BatchNorm1d(512)\n",
    "        self.relu4 = nn.ReLU()\n",
    "        self.maxpool4 = nn.MaxPool1d(kernel_size=4)\n",
    "\n",
    "        self.avgpool = nn.AdaptiveAvgPool1d(1)\n",
    "        self.flatten = nn.Flatten()\n",
    "        self.out = nn.Linear(512, 2)\n",
    "\n",
    "    def forward(self, input):\n",
    "        x = self.maxpool1(self.relu1(self.bn1(self.conv1(input))))\n",
    "\n",
    "        x = self.maxpool2(self.relu2(self.bn2(self.conv2(x))))\n",
    "\n",
    "        x = self.maxpool3(self.relu3(self.bn3(self.conv3(x))))\n",
    "\n",
    "        x = self.maxpool4(self.relu4(self.bn4(self.conv4(x))))\n",
    "\n",
    "        x = self.flatten(self.avgpool(x))\n",
    "\n",
    "        x = self.out(x)\n",
    "\n",
    "        return x\n",
    "\n",
    "model = M5()\n",
    "summary(model, (1,64000))"
   ]
  },
  {
   "cell_type": "code",
   "execution_count": 22,
   "metadata": {},
   "outputs": [
    {
     "name": "stdout",
     "output_type": "stream",
     "text": [
      "torch.Size([2, 3, 6, 6])\n",
      "torch.Size([2, 3, 12, 12])\n",
      "----------------------------------------------------------------\n",
      "        Layer (type)               Output Shape         Param #\n",
      "================================================================\n",
      "            Conv2d-1              [-1, 3, 6, 6]              84\n",
      "   ConvTranspose2d-2            [-1, 3, 12, 12]              84\n",
      "================================================================\n",
      "Total params: 168\n",
      "Trainable params: 168\n",
      "Non-trainable params: 0\n",
      "----------------------------------------------------------------\n",
      "Input size (MB): 0.00\n",
      "Forward/backward pass size (MB): 0.00\n",
      "Params size (MB): 0.00\n",
      "Estimated Total Size (MB): 0.01\n",
      "----------------------------------------------------------------\n"
     ]
    }
   ],
   "source": [
    "class M5(nn.Module):\n",
    "    def __init__(self):\n",
    "        super().__init__()\n",
    "\n",
    "        self.conv1 = nn.Conv2d(3, 3, kernel_size=3, stride=2, padding=1)\n",
    "\n",
    "        self.conv2 = nn.ConvTranspose2d(3, 3, kernel_size=3, stride=2, padding=1)\n",
    "\n",
    "\n",
    "    def forward(self, input):\n",
    "        x = self.conv1(input)\n",
    "        print(x.shape)\n",
    "        x = self.conv2(x, output_size=[1,3,12,12])\n",
    "        print(x.shape)\n",
    "       \n",
    "\n",
    "        return x\n",
    "\n",
    "\n",
    "model = M5()\n",
    "summary(model, (3,12,12))"
   ]
  },
  {
   "cell_type": "code",
   "execution_count": 35,
   "metadata": {},
   "outputs": [
    {
     "name": "stdout",
     "output_type": "stream",
     "text": [
      "torch.Size([1, 3, 512, 487])\n",
      "torch.Size([1, 3, 512, 497])\n"
     ]
    }
   ],
   "source": [
    "conv1 = nn.Conv2d(3, 3, kernel_size=(1,11), stride=1)\n",
    "conv2 = nn.ConvTranspose2d(3, 3, kernel_size=(1,11), stride=1)\n",
    "\n",
    "x = torch.randn(1,3,512, 497)\n",
    "\n",
    "out_1 = conv1(x)\n",
    "\n",
    "print(out_1.size())\n",
    "\n",
    "out_2 = conv2(out_1, output_size=x.size())\n",
    "print(out_2.size())"
   ]
  },
  {
   "cell_type": "code",
   "execution_count": 28,
   "metadata": {},
   "outputs": [
    {
     "data": {
      "text/plain": [
       "torch.Size([3])"
      ]
     },
     "execution_count": 28,
     "metadata": {},
     "output_type": "execute_result"
    }
   ],
   "source": [
    "x = torch.tensor([1,2,3])\n",
    "x.shape"
   ]
  },
  {
   "cell_type": "code",
   "execution_count": null,
   "metadata": {},
   "outputs": [],
   "source": []
  }
 ],
 "metadata": {
  "kernelspec": {
   "display_name": "Python 3.9.12 ('fyp')",
   "language": "python",
   "name": "python3"
  },
  "language_info": {
   "codemirror_mode": {
    "name": "ipython",
    "version": 3
   },
   "file_extension": ".py",
   "mimetype": "text/x-python",
   "name": "python",
   "nbconvert_exporter": "python",
   "pygments_lexer": "ipython3",
   "version": "3.9.12"
  },
  "orig_nbformat": 4,
  "vscode": {
   "interpreter": {
    "hash": "6fd12c0110a4e677020ed062760c440d27ea6b6f2cfce5522b10596f8f3a8860"
   }
  }
 },
 "nbformat": 4,
 "nbformat_minor": 2
}
